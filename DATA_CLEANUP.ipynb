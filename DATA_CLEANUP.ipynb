{
 "cells": [
  {
   "cell_type": "code",
   "execution_count": 1,
   "metadata": {},
   "outputs": [],
   "source": [
    "from os.path import dirname, abspath\n",
    "import os\n",
    "import torch\n",
    "from easydict import EasyDict as edict\n",
    "import json\n",
    "import pandas as pd\n",
    "import numpy as np\n",
    "import cv2\n",
    "from PIL import Image, ImageFile\n",
    "from torchvision import transforms\n",
    "import torchvision.datasets.folder\n",
    "from torch.utils.data import TensorDataset, Dataset\n",
    "from torchvision.datasets import MNIST, ImageFolder\n",
    "from torchvision.transforms.functional import rotate\n",
    "import matplotlib.pyplot as plt\n",
    "# from .utils import transform, GetTransforms"
   ]
  },
  {
   "cell_type": "markdown",
   "metadata": {},
   "source": []
  },
  {
   "cell_type": "code",
   "execution_count": 2,
   "metadata": {},
   "outputs": [
    {
     "name": "stdout",
     "output_type": "stream",
     "text": [
      "/scratch/apm470/projects/nuisance-orthogonal-prediction/code/nurd/group_dro_data/\n"
     ]
    }
   ],
   "source": [
    "from os.path import dirname\n",
    "root_dir = \"/scratch/apm470/projects/nuisance-orthogonal-prediction/code/nurd\"\n",
    "\n",
    "CAN_LOAD_WATERBIRDS=True\n",
    "print(root_dir + \"/group_dro_data/\")\n",
    "if os.path.isdir(root_dir + \"/group_dro_data/\"):\n",
    "    sys.path.append(root_dir + \"/group_dro_data/\")\n",
    "    from cub_dataset import CUBDataset\n",
    "    from dro_dataset import DRODataset\n",
    "    WATERBIRDS_ROOT_DIR=root_dir + \"/cub/\"\n",
    "    assert os.path.isdir(WATERBIRDS_ROOT_DIR)"
   ]
  },
  {
   "cell_type": "code",
   "execution_count": 3,
   "metadata": {},
   "outputs": [
    {
     "name": "stdout",
     "output_type": "stream",
     "text": [
      "getting to group_id : 0 with size torch.Size([6031, 1])\n",
      "getting to group_id : 1 with size torch.Size([3094, 1])\n",
      "getting to group_id : 2 with size torch.Size([882, 1])\n",
      "getting to group_id : 3 with size torch.Size([1781, 1])\n",
      "5000\n",
      "200\n",
      "2000\n",
      "200\n",
      "680\n",
      "200\n",
      "1580\n",
      "200\n"
     ]
    }
   ],
   "source": [
    "full_dataset = CUBDataset(\n",
    "\troot_dir=WATERBIRDS_ROOT_DIR,\n",
    "\ttarget_name=\"waterbird_complete95\",\n",
    "\tconfounder_names=[\"forest2water2\"],\n",
    "\tmodel_type=\"resnet50\",\n",
    "\taugment_data=False,\n",
    "\tdata_hparams={\"input_shape\":(3, 224, 224)})\n",
    "\n",
    "waterbirds_data = DRODataset(\n",
    "\tfull_dataset,\n",
    "\tprocess_item_fn=None,\n",
    "\tn_groups=full_dataset.n_groups,\n",
    "\tn_classes=full_dataset.n_classes,\n",
    "\tgroup_str_fn=full_dataset.group_str)\n",
    "\n",
    "import utils\n",
    "\n",
    "\n",
    "# change False to True to create a waterbirds train test split, then run save_processed to create the biased train and test sets.\n",
    "if False:\n",
    "\ttrain_group_indices, test_group_indices = utils.get_index_subset(\n",
    "\t\t[5000, 2000, 680 , 1580], [200, 200, 200, 200], waterbirds_data)\n",
    "\n",
    "\tfor idx in range(len(train_group_indices)):\n",
    "\t\tprint(len(train_group_indices[idx]))\n",
    "\t\tprint(len(test_group_indices[idx]))\n",
    "\n",
    "\t# UNCOMMENT THE FOLLOWING TO SAVE A NEW SPLIT\n",
    "\ttorch.save(\n",
    "\t\t{\n",
    "\t\t\t'train' : train_group_indices,\n",
    "\t\t\t'test' : test_group_indices\n",
    "\t\t},\n",
    "\t\t\"SAVED_DATA/watebirds_split.pt\"\n",
    "\t)"
   ]
  }
 ],
 "metadata": {
  "kernelspec": {
   "display_name": "Python 3",
   "language": "python",
   "name": "python3"
  },
  "language_info": {
   "codemirror_mode": {
    "name": "ipython",
    "version": 3
   },
   "file_extension": ".py",
   "mimetype": "text/x-python",
   "name": "python",
   "nbconvert_exporter": "python",
   "pygments_lexer": "ipython3",
   "version": "3.8.6"
  }
 },
 "nbformat": 4,
 "nbformat_minor": 4
}
